{
 "cells": [
  {
   "cell_type": "markdown",
   "metadata": {},
   "source": [
    "### TFIDF = Term Frequency and Inverse Document Frequency\n",
    "it is better solution than bag of words as bag of words is only binary (exists a word? or not).\n",
    "\n",
    "On the other hand, TFIDF values the words in floating point which is most important\n",
    "\n",
    "\n",
    "TF = ( number of repetition of words in sentence / number of words in sentence )\n",
    "\n",
    "IDF = log ( number of sentence / number of sentences containing the word )\n",
    "\n",
    "Finaly TF-TDF = TF * IDF\n",
    "\n",
    "https://www.youtube.com/watch?v=D2V1okCEsiE&list=PLZoTAELRMXVMdJ5sqbCK2LiM0HhQVWNzm&index=8"
   ]
  },
  {
   "cell_type": "code",
   "execution_count": 1,
   "metadata": {},
   "outputs": [],
   "source": [
    "paragraph = \"Probably the most rocks loving way to achieve paragraph unity is to express the central idea of the paragraph in a topic sentence.Topic sentences are similar to mini thesis statements. Like a thesis statement, a topic sentence has a specific main point. Whereas the thesis is the main point of the essay, the topic sentence is the main point of the paragraph. Like the thesis statement, a topic sentence has a unifying function. But a thesis statement or topic sentence alone doesn’t guarantee unity. An essay is unified if all the paragraphs relate to the thesis, whereas a paragraph is unified if all the sentences relate to the topic sentence. Note: Not all paragraphs need topic sentences. In particular, opening and closing paragraphs, which serve different functions from body paragraphs, generally don’t have topic sentences.\"\n"
   ]
  },
  {
   "cell_type": "code",
   "execution_count": 3,
   "metadata": {},
   "outputs": [],
   "source": [
    "import re\n",
    "import nltk\n",
    "from nltk.stem.porter import PorterStemmer\n",
    "from nltk.stem import WordNetLemmatizer\n",
    "from nltk.corpus import stopwords"
   ]
  },
  {
   "cell_type": "code",
   "execution_count": 4,
   "metadata": {},
   "outputs": [
    {
     "data": {
      "text/plain": [
       "['probably rock loving way achieve paragraph unity express central idea paragraph topic sentence topic sentence similar mini thesis statement',\n",
       " 'like thesis statement topic sentence specific main point',\n",
       " 'whereas thesis main point essay topic sentence main point paragraph',\n",
       " 'like thesis statement topic sentence unifying function',\n",
       " 'thesis statement topic sentence alone guarantee unity',\n",
       " 'essay unified paragraph relate thesis whereas paragraph unified sentence relate topic sentence',\n",
       " 'note paragraph need topic sentence',\n",
       " 'particular opening closing paragraph serve different function body paragraph generally topic sentence']"
      ]
     },
     "execution_count": 4,
     "metadata": {},
     "output_type": "execute_result"
    }
   ],
   "source": [
    "ps = PorterStemmer()\n",
    "wordnet = WordNetLemmatizer()\n",
    "sentences = nltk.sent_tokenize(paragraph)\n",
    "corpus = []\n",
    "for i in range(len(sentences)):\n",
    "    review = re.sub('[^a-zA-Z]', ' ', sentences[i])\n",
    "    review = review.lower()\n",
    "    review = review.split()\n",
    "    # review = [ps.stem(word) for word in review if word not in set(stopwords.words('english'))]\n",
    "    review = [wordnet.lemmatize(word) for word in review if word not in set(stopwords.words('english'))]\n",
    "    review = ' '.join(review)\n",
    "    corpus.append(review)\n",
    "corpus\n",
    "    "
   ]
  },
  {
   "cell_type": "markdown",
   "metadata": {},
   "source": [
    "## Creating TF-IDF model"
   ]
  },
  {
   "cell_type": "code",
   "execution_count": 8,
   "metadata": {},
   "outputs": [
    {
     "data": {
      "text/plain": [
       "array([[0.26831668, 0.        , 0.        , 0.26831668, 0.        ,\n",
       "        0.        , 0.        , 0.26831668, 0.        , 0.        ,\n",
       "        0.        , 0.26831668, 0.        , 0.26831668, 0.        ,\n",
       "        0.26831668, 0.        , 0.        , 0.        , 0.30119654,\n",
       "        0.        , 0.        , 0.26831668, 0.        , 0.26831668,\n",
       "        0.21430382, 0.        , 0.26831668, 0.        , 0.17013437,\n",
       "        0.13408073, 0.21430382, 0.        , 0.        , 0.22487031,\n",
       "        0.26831668, 0.        ],\n",
       "       [0.        , 0.        , 0.        , 0.        , 0.        ,\n",
       "        0.        , 0.        , 0.        , 0.        , 0.        ,\n",
       "        0.        , 0.        , 0.41501972, 0.        , 0.41501972,\n",
       "        0.        , 0.        , 0.        , 0.        , 0.        ,\n",
       "        0.        , 0.41501972, 0.        , 0.        , 0.        ,\n",
       "        0.19775912, 0.        , 0.        , 0.49520414, 0.31399929,\n",
       "        0.24745884, 0.19775912, 0.        , 0.        , 0.        ,\n",
       "        0.        , 0.        ],\n",
       "       [0.        , 0.        , 0.        , 0.        , 0.        ,\n",
       "        0.        , 0.29803443, 0.        , 0.        , 0.        ,\n",
       "        0.        , 0.        , 0.        , 0.        , 0.59606887,\n",
       "        0.        , 0.        , 0.        , 0.        , 0.19959713,\n",
       "        0.        , 0.59606887, 0.        , 0.        , 0.        ,\n",
       "        0.14201501, 0.        , 0.        , 0.        , 0.        ,\n",
       "        0.17770542, 0.14201501, 0.        , 0.        , 0.        ,\n",
       "        0.        , 0.29803443],\n",
       "       [0.        , 0.        , 0.        , 0.        , 0.        ,\n",
       "        0.        , 0.        , 0.        , 0.45615965, 0.        ,\n",
       "        0.        , 0.        , 0.45615965, 0.        , 0.        ,\n",
       "        0.        , 0.        , 0.        , 0.        , 0.        ,\n",
       "        0.        , 0.        , 0.        , 0.        , 0.        ,\n",
       "        0.21736252, 0.        , 0.        , 0.        , 0.34512531,\n",
       "        0.27198886, 0.21736252, 0.        , 0.54429257, 0.        ,\n",
       "        0.        , 0.        ],\n",
       "       [0.        , 0.52177525, 0.        , 0.        , 0.        ,\n",
       "        0.        , 0.        , 0.        , 0.        , 0.        ,\n",
       "        0.52177525, 0.        , 0.        , 0.        , 0.        ,\n",
       "        0.        , 0.        , 0.        , 0.        , 0.        ,\n",
       "        0.        , 0.        , 0.        , 0.        , 0.        ,\n",
       "        0.20837026, 0.        , 0.        , 0.        , 0.33084752,\n",
       "        0.26073671, 0.20837026, 0.        , 0.        , 0.43728838,\n",
       "        0.        , 0.        ],\n",
       "       [0.        , 0.        , 0.        , 0.        , 0.        ,\n",
       "        0.        , 0.24488926, 0.        , 0.        , 0.        ,\n",
       "        0.        , 0.        , 0.        , 0.        , 0.        ,\n",
       "        0.        , 0.        , 0.        , 0.        , 0.32801039,\n",
       "        0.        , 0.        , 0.        , 0.58440682, 0.        ,\n",
       "        0.23338209, 0.        , 0.        , 0.        , 0.        ,\n",
       "        0.14601719, 0.11669105, 0.58440682, 0.        , 0.        ,\n",
       "        0.        , 0.24488926],\n",
       "       [0.        , 0.        , 0.        , 0.        , 0.        ,\n",
       "        0.        , 0.        , 0.        , 0.        , 0.        ,\n",
       "        0.        , 0.        , 0.        , 0.        , 0.        ,\n",
       "        0.        , 0.61615997, 0.61615997, 0.        , 0.3458325 ,\n",
       "        0.        , 0.        , 0.        , 0.        , 0.        ,\n",
       "        0.24606267, 0.        , 0.        , 0.        , 0.        ,\n",
       "        0.        , 0.24606267, 0.        , 0.        , 0.        ,\n",
       "        0.        , 0.        ],\n",
       "       [0.        , 0.        , 0.32824075, 0.        , 0.32824075,\n",
       "        0.32824075, 0.        , 0.        , 0.27509137, 0.32824075,\n",
       "        0.        , 0.        , 0.        , 0.        , 0.        ,\n",
       "        0.        , 0.        , 0.        , 0.32824075, 0.36846379,\n",
       "        0.32824075, 0.        , 0.        , 0.        , 0.        ,\n",
       "        0.13108251, 0.32824075, 0.        , 0.        , 0.        ,\n",
       "        0.        , 0.13108251, 0.        , 0.        , 0.        ,\n",
       "        0.        , 0.        ]])"
      ]
     },
     "execution_count": 8,
     "metadata": {},
     "output_type": "execute_result"
    }
   ],
   "source": [
    "from sklearn.feature_extraction.text import TfidfVectorizer\n",
    "cv = TfidfVectorizer()\n",
    "X = cv.fit_transform(corpus).toarray()\n",
    "X"
   ]
  },
  {
   "cell_type": "code",
   "execution_count": null,
   "metadata": {},
   "outputs": [],
   "source": []
  }
 ],
 "metadata": {
  "interpreter": {
   "hash": "e1fbde2f804935e4d9a4731616b4037e0527777a7f4d5b5a748ec12556269431"
  },
  "kernelspec": {
   "display_name": "Python 3.8.12 ('base')",
   "language": "python",
   "name": "python3"
  },
  "language_info": {
   "codemirror_mode": {
    "name": "ipython",
    "version": 3
   },
   "file_extension": ".py",
   "mimetype": "text/x-python",
   "name": "python",
   "nbconvert_exporter": "python",
   "pygments_lexer": "ipython3",
   "version": "3.8.12"
  },
  "orig_nbformat": 4
 },
 "nbformat": 4,
 "nbformat_minor": 2
}
