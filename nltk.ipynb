{
 "cells": [
  {
   "cell_type": "code",
   "execution_count": 1,
   "metadata": {},
   "outputs": [
    {
     "name": "stdout",
     "output_type": "stream",
     "text": [
      "showing info https://raw.githubusercontent.com/nltk/nltk_data/gh-pages/index.xml\n"
     ]
    },
    {
     "name": "stderr",
     "output_type": "stream",
     "text": [
      "[nltk_data] Downloading package punkt to\n",
      "[nltk_data]     /Users/rakibulranak/nltk_data...\n",
      "[nltk_data]   Package punkt is already up-to-date!\n"
     ]
    },
    {
     "data": {
      "text/plain": [
       "True"
      ]
     },
     "execution_count": 1,
     "metadata": {},
     "output_type": "execute_result"
    }
   ],
   "source": [
    "import nltk\n",
    "nltk.download()\n",
    "nltk.download('punkt')"
   ]
  },
  {
   "cell_type": "code",
   "execution_count": 8,
   "metadata": {},
   "outputs": [
    {
     "data": {
      "text/plain": [
       "['Probably',\n",
       " 'the',\n",
       " 'most',\n",
       " 'effective',\n",
       " 'way',\n",
       " 'to',\n",
       " 'achieve',\n",
       " 'paragraph',\n",
       " 'unity',\n",
       " 'is',\n",
       " 'to',\n",
       " 'express',\n",
       " 'the',\n",
       " 'central',\n",
       " 'idea',\n",
       " 'of',\n",
       " 'the',\n",
       " 'paragraph',\n",
       " 'in',\n",
       " 'a',\n",
       " 'topic',\n",
       " 'sentence.Topic',\n",
       " 'sentences',\n",
       " 'are',\n",
       " 'similar',\n",
       " 'to',\n",
       " 'mini',\n",
       " 'thesis',\n",
       " 'statements',\n",
       " '.',\n",
       " 'Like',\n",
       " 'a',\n",
       " 'thesis',\n",
       " 'statement',\n",
       " ',',\n",
       " 'a',\n",
       " 'topic',\n",
       " 'sentence',\n",
       " 'has',\n",
       " 'a',\n",
       " 'specific',\n",
       " 'main',\n",
       " 'point',\n",
       " '.',\n",
       " 'Whereas',\n",
       " 'the',\n",
       " 'thesis',\n",
       " 'is',\n",
       " 'the',\n",
       " 'main',\n",
       " 'point',\n",
       " 'of',\n",
       " 'the',\n",
       " 'essay',\n",
       " ',',\n",
       " 'the',\n",
       " 'topic',\n",
       " 'sentence',\n",
       " 'is',\n",
       " 'the',\n",
       " 'main',\n",
       " 'point',\n",
       " 'of',\n",
       " 'the',\n",
       " 'paragraph',\n",
       " '.',\n",
       " 'Like',\n",
       " 'the',\n",
       " 'thesis',\n",
       " 'statement',\n",
       " ',',\n",
       " 'a',\n",
       " 'topic',\n",
       " 'sentence',\n",
       " 'has',\n",
       " 'a',\n",
       " 'unifying',\n",
       " 'function',\n",
       " '.',\n",
       " 'But',\n",
       " 'a',\n",
       " 'thesis',\n",
       " 'statement',\n",
       " 'or',\n",
       " 'topic',\n",
       " 'sentence',\n",
       " 'alone',\n",
       " 'doesn',\n",
       " '’',\n",
       " 't',\n",
       " 'guarantee',\n",
       " 'unity',\n",
       " '.',\n",
       " 'An',\n",
       " 'essay',\n",
       " 'is',\n",
       " 'unified',\n",
       " 'if',\n",
       " 'all',\n",
       " 'the',\n",
       " 'paragraphs',\n",
       " 'relate',\n",
       " 'to',\n",
       " 'the',\n",
       " 'thesis',\n",
       " ',',\n",
       " 'whereas',\n",
       " 'a',\n",
       " 'paragraph',\n",
       " 'is',\n",
       " 'unified',\n",
       " 'if',\n",
       " 'all',\n",
       " 'the',\n",
       " 'sentences',\n",
       " 'relate',\n",
       " 'to',\n",
       " 'the',\n",
       " 'topic',\n",
       " 'sentence',\n",
       " '.',\n",
       " 'Note',\n",
       " ':',\n",
       " 'Not',\n",
       " 'all',\n",
       " 'paragraphs',\n",
       " 'need',\n",
       " 'topic',\n",
       " 'sentences',\n",
       " '.',\n",
       " 'In',\n",
       " 'particular',\n",
       " ',',\n",
       " 'opening',\n",
       " 'and',\n",
       " 'closing',\n",
       " 'paragraphs',\n",
       " ',',\n",
       " 'which',\n",
       " 'serve',\n",
       " 'different',\n",
       " 'functions',\n",
       " 'from',\n",
       " 'body',\n",
       " 'paragraphs',\n",
       " ',',\n",
       " 'generally',\n",
       " 'don',\n",
       " '’',\n",
       " 't',\n",
       " 'have',\n",
       " 'topic',\n",
       " 'sentences',\n",
       " '.']"
      ]
     },
     "execution_count": 8,
     "metadata": {},
     "output_type": "execute_result"
    }
   ],
   "source": [
    "from nltk import word_tokenize\n",
    "paragraph = \"Probably the most effective way to achieve paragraph unity is to express the central idea of the paragraph in a topic sentence.Topic sentences are similar to mini thesis statements. Like a thesis statement, a topic sentence has a specific main point. Whereas the thesis is the main point of the essay, the topic sentence is the main point of the paragraph. Like the thesis statement, a topic sentence has a unifying function. But a thesis statement or topic sentence alone doesn’t guarantee unity. An essay is unified if all the paragraphs relate to the thesis, whereas a paragraph is unified if all the sentences relate to the topic sentence. Note: Not all paragraphs need topic sentences. In particular, opening and closing paragraphs, which serve different functions from body paragraphs, generally don’t have topic sentences.\"\n",
    "words = word_tokenize(paragraph)\n",
    "words"
   ]
  },
  {
   "cell_type": "code",
   "execution_count": 7,
   "metadata": {},
   "outputs": [
    {
     "data": {
      "text/plain": [
       "['Probably the most effective way to achieve paragraph unity is to express the central idea of the paragraph in a topic sentence.Topic sentences are similar to mini thesis statements.',\n",
       " 'Like a thesis statement, a topic sentence has a specific main point.',\n",
       " 'Whereas the thesis is the main point of the essay, the topic sentence is the main point of the paragraph.',\n",
       " 'Like the thesis statement, a topic sentence has a unifying function.',\n",
       " 'But a thesis statement or topic sentence alone doesn’t guarantee unity.',\n",
       " 'An essay is unified if all the paragraphs relate to the thesis, whereas a paragraph is unified if all the sentences relate to the topic sentence.',\n",
       " 'Note: Not all paragraphs need topic sentences.',\n",
       " 'In particular, opening and closing paragraphs, which serve different functions from body paragraphs, generally don’t have topic sentences.']"
      ]
     },
     "execution_count": 7,
     "metadata": {},
     "output_type": "execute_result"
    }
   ],
   "source": [
    "sentences = nltk.sent_tokenize(paragraph)\n",
    "sentences"
   ]
  },
  {
   "cell_type": "code",
   "execution_count": null,
   "metadata": {},
   "outputs": [],
   "source": []
  }
 ],
 "metadata": {
  "interpreter": {
   "hash": "e1fbde2f804935e4d9a4731616b4037e0527777a7f4d5b5a748ec12556269431"
  },
  "kernelspec": {
   "display_name": "Python 3.8.12 ('base')",
   "language": "python",
   "name": "python3"
  },
  "language_info": {
   "codemirror_mode": {
    "name": "ipython",
    "version": 3
   },
   "file_extension": ".py",
   "mimetype": "text/x-python",
   "name": "python",
   "nbconvert_exporter": "python",
   "pygments_lexer": "ipython3",
   "version": "3.8.12"
  },
  "orig_nbformat": 4
 },
 "nbformat": 4,
 "nbformat_minor": 2
}
